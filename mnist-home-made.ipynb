{
 "cells": [
  {
   "cell_type": "code",
   "execution_count": 45,
   "id": "initial_id",
   "metadata": {
    "collapsed": true,
    "ExecuteTime": {
     "end_time": "2023-12-29T23:50:36.446871Z",
     "start_time": "2023-12-29T23:50:36.443459Z"
    }
   },
   "outputs": [],
   "source": [
    "import torch\n",
    "from torchvision import datasets\n",
    "from torch.utils.data import DataLoader\n",
    "from torchvision.transforms import ToTensor\n",
    "from rsdl.layers import Linear\n",
    "from rsdl.optim import Adam\n",
    "from rsdl.activations import Relu, Softmax\n",
    "from rsdl import Tensor\n",
    "import numpy as np"
   ]
  },
  {
   "cell_type": "code",
   "outputs": [],
   "source": [
    "device = \"cuda\" if torch.cuda.is_available() else \"cpu\"\n",
    "\n",
    "train_set = datasets.MNIST(\n",
    "    root='./data',\n",
    "    train=True,\n",
    "    download=True,\n",
    "    transform=ToTensor()\n",
    ")\n",
    "\n",
    "test_set = datasets.MNIST(\n",
    "    root='./data',\n",
    "    train=False,\n",
    "    download=False,\n",
    "    transform=ToTensor()\n",
    ")"
   ],
   "metadata": {
    "collapsed": false,
    "ExecuteTime": {
     "end_time": "2023-12-29T23:50:36.752748Z",
     "start_time": "2023-12-29T23:50:36.732805Z"
    }
   },
   "id": "da5891a846b246c3",
   "execution_count": 46
  },
  {
   "cell_type": "code",
   "outputs": [],
   "source": [
    "batch_size = 32\n",
    "\n",
    "train_loader = DataLoader(train_set, batch_size=batch_size, shuffle=True)\n",
    "test_loader = DataLoader(test_set, batch_size=batch_size, shuffle=False)"
   ],
   "metadata": {
    "collapsed": false,
    "ExecuteTime": {
     "end_time": "2023-12-29T23:50:37.049121Z",
     "start_time": "2023-12-29T23:50:37.042541Z"
    }
   },
   "id": "9edcb0a136e4019f",
   "execution_count": 47
  },
  {
   "cell_type": "code",
   "outputs": [],
   "source": [
    "class Model:\n",
    "    def __init__(self, input_size: int, hidden_size: int, output_size: int) -> None:\n",
    "        super(Model, self).__init__()\n",
    "        self.input_size = input_size\n",
    "        self.hidden_size = hidden_size\n",
    "        self.output_size = output_size\n",
    "        \n",
    "        self.layer0 = Linear(input_size, hidden_size, need_bias=True)\n",
    "        self.layer1 = Linear(hidden_size, hidden_size, need_bias=True)\n",
    "        self.layer2 = Linear(hidden_size, hidden_size, need_bias=True)\n",
    "        self.layer3 = Linear(hidden_size, hidden_size, need_bias=True)\n",
    "        self.layer4 = Linear(hidden_size, hidden_size, need_bias=True)\n",
    "        self.layer5 = Linear(hidden_size, output_size, need_bias=True)\n",
    "        self.optimizer =  Adam(layers=[self.layer0, self.layer1, self.layer2, self.layer3, self.layer4, self.layer5])\n",
    "    \n",
    "    def forward(self, x):\n",
    "        # Assuming x is a tensor with size (batch_size, 1, 28, 28)\n",
    "        x = Relu(self.layer0(x))\n",
    "        x = Relu(self.layer1(x))\n",
    "        x = Relu(self.layer2(x))\n",
    "        x = Relu(self.layer3(x))\n",
    "        x = Relu(self.layer4(x))\n",
    "        x = Softmax(self.layer5(x))\n",
    "        return x"
   ],
   "metadata": {
    "collapsed": false,
    "ExecuteTime": {
     "end_time": "2023-12-29T23:50:37.352428Z",
     "start_time": "2023-12-29T23:50:37.349243Z"
    }
   },
   "id": "db8c3177bce95ee7",
   "execution_count": 48
  },
  {
   "cell_type": "code",
   "outputs": [],
   "source": [
    "model = Model(input_size=784, hidden_size=100, output_size=10)"
   ],
   "metadata": {
    "collapsed": false,
    "ExecuteTime": {
     "end_time": "2023-12-29T23:50:37.676144Z",
     "start_time": "2023-12-29T23:50:37.670940Z"
    }
   },
   "id": "baabde9259b87063",
   "execution_count": 49
  },
  {
   "cell_type": "code",
   "outputs": [
    {
     "ename": "TypeError",
     "evalue": "unsupported operand type(s) for /: 'Tensor' and 'int'",
     "output_type": "error",
     "traceback": [
      "\u001B[0;31m---------------------------------------------------------------------------\u001B[0m",
      "\u001B[0;31mTypeError\u001B[0m                                 Traceback (most recent call last)",
      "Cell \u001B[0;32mIn[50], line 20\u001B[0m\n\u001B[1;32m     17\u001B[0m actual \u001B[38;5;241m=\u001B[39m Tensor(np\u001B[38;5;241m.\u001B[39mzeros((\u001B[38;5;28mlen\u001B[39m(labels), \u001B[38;5;241m10\u001B[39m)))\n\u001B[1;32m     18\u001B[0m actual\u001B[38;5;241m.\u001B[39mdata[np\u001B[38;5;241m.\u001B[39marange(\u001B[38;5;28mlen\u001B[39m(labels)), labels] \u001B[38;5;241m=\u001B[39m \u001B[38;5;241m1\u001B[39m\n\u001B[0;32m---> 20\u001B[0m loss \u001B[38;5;241m=\u001B[39m mean_square_errors(predicted, actual)\n\u001B[1;32m     22\u001B[0m loss\u001B[38;5;241m.\u001B[39mbackward()\n\u001B[1;32m     23\u001B[0m epoch_loss \u001B[38;5;241m+\u001B[39m\u001B[38;5;241m=\u001B[39m loss\u001B[38;5;241m.\u001B[39mdata\n",
      "File \u001B[0;32m~/Uni/Computational Intelligence/rs-dl-framework/rsdl/losses/loss_functions.py:6\u001B[0m, in \u001B[0;36mmean_square_errors\u001B[0;34m(predicts, actual)\u001B[0m\n\u001B[1;32m      4\u001B[0m \u001B[38;5;28;01mdef\u001B[39;00m \u001B[38;5;21mmean_square_errors\u001B[39m(predicts: Tensor, actual: Tensor):\n\u001B[1;32m      5\u001B[0m     mse \u001B[38;5;241m=\u001B[39m ((predicts \u001B[38;5;241m-\u001B[39m actual) \u001B[38;5;241m*\u001B[39m\u001B[38;5;241m*\u001B[39m \u001B[38;5;241m2\u001B[39m)\u001B[38;5;241m.\u001B[39msum()\n\u001B[0;32m----> 6\u001B[0m     mse\u001B[38;5;241m.\u001B[39mdata \u001B[38;5;241m/\u001B[39m\u001B[38;5;241m=\u001B[39m predicts\u001B[38;5;241m.\u001B[39mshape[\u001B[38;5;241m0\u001B[39m]\n\u001B[1;32m      7\u001B[0m     \u001B[38;5;28;01mreturn\u001B[39;00m mse\n",
      "\u001B[0;31mTypeError\u001B[0m: unsupported operand type(s) for /: 'Tensor' and 'int'"
     ]
    }
   ],
   "source": [
    "from rsdl.losses import cross_entropy, mean_square_errors\n",
    "\n",
    "for epoch in range(50):\n",
    "\n",
    "    epoch_loss = 0.0\n",
    "    batch = 0\n",
    "    \n",
    "    for images, labels in train_loader:\n",
    "        batch += 1\n",
    "\n",
    "        flattened_images = images.view([images.size(0), -1])\n",
    "        numpy_images = flattened_images.numpy()\n",
    "        inputs = Tensor(numpy_images)\n",
    "\n",
    "        predicted = model.forward(inputs)\n",
    "\n",
    "        actual = Tensor(np.zeros((len(labels), 10)))\n",
    "        actual.data[np.arange(len(labels)), labels] = 1\n",
    "\n",
    "        loss = mean_square_errors(predicted, actual)\n",
    "\n",
    "        loss.backward()\n",
    "        epoch_loss += loss.data\n",
    "\n",
    "        model.optimizer.step()\n",
    "        model.optimizer.zero_grad()"
   ],
   "metadata": {
    "collapsed": false,
    "ExecuteTime": {
     "end_time": "2023-12-29T23:50:38.114813Z",
     "start_time": "2023-12-29T23:50:38.063415Z"
    }
   },
   "id": "d1ffa90b56321259",
   "execution_count": 50
  },
  {
   "cell_type": "code",
   "outputs": [],
   "source": [],
   "metadata": {
    "collapsed": false
   },
   "id": "a187b2fac2e9b0bc"
  }
 ],
 "metadata": {
  "kernelspec": {
   "display_name": "Python 3",
   "language": "python",
   "name": "python3"
  },
  "language_info": {
   "codemirror_mode": {
    "name": "ipython",
    "version": 2
   },
   "file_extension": ".py",
   "mimetype": "text/x-python",
   "name": "python",
   "nbconvert_exporter": "python",
   "pygments_lexer": "ipython2",
   "version": "2.7.6"
  }
 },
 "nbformat": 4,
 "nbformat_minor": 5
}
