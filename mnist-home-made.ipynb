{
 "cells": [
  {
   "cell_type": "code",
   "execution_count": 1,
   "id": "initial_id",
   "metadata": {
    "collapsed": true,
    "ExecuteTime": {
     "end_time": "2023-12-29T23:54:15.760677Z",
     "start_time": "2023-12-29T23:54:14.728935Z"
    }
   },
   "outputs": [],
   "source": [
    "import torch\n",
    "from torchvision import datasets\n",
    "from torch.utils.data import DataLoader\n",
    "from torchvision.transforms import ToTensor\n",
    "from rsdl.layers import Linear\n",
    "from rsdl.optim import Adam\n",
    "from rsdl.activations import Relu, Softmax\n",
    "from rsdl import Tensor\n",
    "import numpy as np"
   ]
  },
  {
   "cell_type": "code",
   "outputs": [],
   "source": [
    "device = \"cuda\" if torch.cuda.is_available() else \"cpu\"\n",
    "\n",
    "train_set = datasets.MNIST(\n",
    "    root='./data',\n",
    "    train=True,\n",
    "    download=True,\n",
    "    transform=ToTensor()\n",
    ")\n",
    "\n",
    "test_set = datasets.MNIST(\n",
    "    root='./data',\n",
    "    train=False,\n",
    "    download=False,\n",
    "    transform=ToTensor()\n",
    ")"
   ],
   "metadata": {
    "collapsed": false,
    "ExecuteTime": {
     "end_time": "2023-12-29T23:54:15.780046Z",
     "start_time": "2023-12-29T23:54:15.761515Z"
    }
   },
   "id": "da5891a846b246c3",
   "execution_count": 2
  },
  {
   "cell_type": "code",
   "outputs": [],
   "source": [
    "batch_size = 32\n",
    "\n",
    "train_loader = DataLoader(train_set, batch_size=batch_size, shuffle=True)\n",
    "test_loader = DataLoader(test_set, batch_size=batch_size, shuffle=False)"
   ],
   "metadata": {
    "collapsed": false,
    "ExecuteTime": {
     "end_time": "2023-12-29T23:54:15.783911Z",
     "start_time": "2023-12-29T23:54:15.780341Z"
    }
   },
   "id": "9edcb0a136e4019f",
   "execution_count": 3
  },
  {
   "cell_type": "code",
   "outputs": [],
   "source": [
    "class Model:\n",
    "    def __init__(self, input_size: int, hidden_size: int, output_size: int) -> None:\n",
    "        super(Model, self).__init__()\n",
    "        self.input_size = input_size\n",
    "        self.hidden_size = hidden_size\n",
    "        self.output_size = output_size\n",
    "        \n",
    "        self.layer0 = Linear(input_size, hidden_size, need_bias=True)\n",
    "        self.layer1 = Linear(hidden_size, hidden_size, need_bias=True)\n",
    "        self.layer2 = Linear(hidden_size, hidden_size, need_bias=True)\n",
    "        self.layer3 = Linear(hidden_size, hidden_size, need_bias=True)\n",
    "        self.layer4 = Linear(hidden_size, hidden_size, need_bias=True)\n",
    "        self.layer5 = Linear(hidden_size, output_size, need_bias=True)\n",
    "        self.optimizer =  Adam(layers=[self.layer0, self.layer1, self.layer2, self.layer3, self.layer4, self.layer5])\n",
    "    \n",
    "    def forward(self, x):\n",
    "        # Assuming x is a tensor with size (batch_size, 1, 28, 28)\n",
    "        x = Relu(self.layer0(x))\n",
    "        x = Relu(self.layer1(x))\n",
    "        x = Relu(self.layer2(x))\n",
    "        x = Relu(self.layer3(x))\n",
    "        x = Relu(self.layer4(x))\n",
    "        x = Softmax(self.layer5(x))\n",
    "        return x"
   ],
   "metadata": {
    "collapsed": false,
    "ExecuteTime": {
     "end_time": "2023-12-29T23:54:20.680080Z",
     "start_time": "2023-12-29T23:54:20.673447Z"
    }
   },
   "id": "db8c3177bce95ee7",
   "execution_count": 4
  },
  {
   "cell_type": "code",
   "outputs": [],
   "source": [
    "model = Model(input_size=784, hidden_size=100, output_size=10)"
   ],
   "metadata": {
    "collapsed": false,
    "ExecuteTime": {
     "end_time": "2023-12-29T23:54:22.339812Z",
     "start_time": "2023-12-29T23:54:22.332665Z"
    }
   },
   "id": "baabde9259b87063",
   "execution_count": 5
  },
  {
   "cell_type": "code",
   "outputs": [],
   "source": [
    "from rsdl.losses import cross_entropy, mean_square_errors\n",
    "\n",
    "for epoch in range(5):\n",
    "\n",
    "    epoch_loss = 0.0\n",
    "    batch = 0\n",
    "    \n",
    "    for images, labels in train_loader:\n",
    "        batch += 1\n",
    "\n",
    "        flattened_images = images.view([images.size(0), -1])\n",
    "        numpy_images = flattened_images.numpy()\n",
    "        inputs = Tensor(numpy_images)\n",
    "\n",
    "        predicted = model.forward(inputs)\n",
    "\n",
    "        actual = Tensor(np.zeros((len(labels), 10)))\n",
    "        actual.data[np.arange(len(labels)), labels] = 1\n",
    "\n",
    "        loss = mean_square_errors(predicted, actual)\n",
    "        \n",
    "        loss.zero_grad()\n",
    "        loss.backward()\n",
    "        epoch_loss += loss.data\n",
    "\n",
    "        model.optimizer.step()\n",
    "        model.optimizer.zero_grad()\n",
    "        \n",
    "    print(epoch_loss)"
   ],
   "metadata": {
    "collapsed": false,
    "is_executing": true,
    "ExecuteTime": {
     "start_time": "2023-12-29T23:54:23.084977Z"
    }
   },
   "id": "d1ffa90b56321259",
   "execution_count": null
  }
 ],
 "metadata": {
  "kernelspec": {
   "display_name": "Python 3",
   "language": "python",
   "name": "python3"
  },
  "language_info": {
   "codemirror_mode": {
    "name": "ipython",
    "version": 2
   },
   "file_extension": ".py",
   "mimetype": "text/x-python",
   "name": "python",
   "nbconvert_exporter": "python",
   "pygments_lexer": "ipython2",
   "version": "2.7.6"
  }
 },
 "nbformat": 4,
 "nbformat_minor": 5
}
